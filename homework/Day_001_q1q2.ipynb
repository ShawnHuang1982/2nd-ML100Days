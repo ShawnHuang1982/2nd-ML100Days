{
 "cells": [
  {
   "cell_type": "markdown",
   "metadata": {},
   "source": [
    "# 作業1\n",
    "\n",
    "## 選擇資料\n",
    "https://www.kaggle.com/prakaa/air-quality-data-earlwood-nsw-australia\n",
    "\n",
    "### 這組資料為何重要\n",
    "\n",
    "* 我認為空汙絕對是未來對人類重大影響的課題，可以從研究中去學習到相關的重要指標，藉此了解這個世界發生的問題。\n",
    "\n",
    "### 資料來源\n",
    "[Office of Environment and Heritage ＯＥＨ的空氣觀測站](http://www.environment.nsw.gov.au/aqms/search.htm)\n",
    "\n",
    "###  蒐集而來的資料型態為何\n",
    "* 數值\n",
    "* 表格\n",
    "\n",
    "### 這組資料想解決的問題如何評估\n",
    "* Ｏ3\n",
    "* NO\n",
    "* NO2\n",
    "* CO\n",
    "* SO2\n",
    "* PM10\n",
    "* PM2.5\n",
    "\n",
    "\n",
    "# 作業2\n",
    "## 問題\n",
    "想像你經營一個自由載客車隊，你希望能透過數據分析以提升業績，請你思考並描述你如何規劃整體的分析/解決方案：\n",
    "\n",
    "### 1. 核心問題為何 \n",
    "提升業績\n",
    "\n",
    "### 2. 資料從何而來\n",
    "* 預約紀錄\n",
    "* 出車紀錄\n",
    "* 每日單一車營收\n",
    "\n",
    "### 3. 蒐集而來的資料型態為何\n",
    "* 資料庫（完整紀錄）\n",
    "\n",
    "### 4. 如何評估 \n",
    "* 每日載客數量變多\n",
    "* 每日載客時間變長"
   ]
  },
  {
   "cell_type": "code",
   "execution_count": null,
   "metadata": {},
   "outputs": [],
   "source": []
  }
 ],
 "metadata": {
  "kernelspec": {
   "display_name": "Python 3",
   "language": "python",
   "name": "python3"
  },
  "language_info": {
   "codemirror_mode": {
    "name": "ipython",
    "version": 3
   },
   "file_extension": ".py",
   "mimetype": "text/x-python",
   "name": "python",
   "nbconvert_exporter": "python",
   "pygments_lexer": "ipython3",
   "version": "3.7.2"
  }
 },
 "nbformat": 4,
 "nbformat_minor": 2
}
